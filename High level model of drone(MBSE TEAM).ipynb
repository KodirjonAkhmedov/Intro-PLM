{
 "cells": [
  {
   "cell_type": "code",
   "execution_count": 1,
   "metadata": {
    "scrolled": true
   },
   "outputs": [
    {
     "data": {
      "text/html": [
       "<script>\n",
       "  function code_toggle() {\n",
       "    if (code_shown){\n",
       "      $('div.input').hide('500');\n",
       "      $('#toggleButton').val('Show Code')\n",
       "    } else {\n",
       "      $('div.input').show('500');\n",
       "      $('#toggleButton').val('Hide Code')\n",
       "    }\n",
       "    code_shown = !code_shown\n",
       "  }\n",
       "\n",
       "  $( document ).ready(function(){\n",
       "    code_shown=false;\n",
       "    $('div.input').hide()\n",
       "  });\n",
       "</script>\n",
       "<form action=\"javascript:code_toggle()\"><input type=\"submit\" id=\"toggleButton\" value=\"Show Code\"></form>"
      ],
      "text/plain": [
       "<IPython.core.display.HTML object>"
      ]
     },
     "execution_count": 1,
     "metadata": {},
     "output_type": "execute_result"
    }
   ],
   "source": [
    "from IPython.display import HTML\n",
    "\n",
    "HTML('''<script>\n",
    "  function code_toggle() {\n",
    "    if (code_shown){\n",
    "      $('div.input').hide('500');\n",
    "      $('#toggleButton').val('Show Code')\n",
    "    } else {\n",
    "      $('div.input').show('500');\n",
    "      $('#toggleButton').val('Hide Code')\n",
    "    }\n",
    "    code_shown = !code_shown\n",
    "  }\n",
    "\n",
    "  $( document ).ready(function(){\n",
    "    code_shown=false;\n",
    "    $('div.input').hide()\n",
    "  });\n",
    "</script>\n",
    "<form action=\"javascript:code_toggle()\"><input type=\"submit\" id=\"toggleButton\" value=\"Show Code\"></form>''')"
   ]
  },
  {
   "cell_type": "code",
   "execution_count": 2,
   "metadata": {},
   "outputs": [],
   "source": [
    "from IPython.display import display\n",
    "from sympy import *\n",
    "import sympy.physics.units as unit\n",
    "init_printing()\n",
    "import math\n",
    "import numpy as np\n",
    "\n",
    "from sympy.physics.units import convert_to\n"
   ]
  },
  {
   "cell_type": "code",
   "execution_count": 3,
   "metadata": {},
   "outputs": [],
   "source": [
    "# data collections\n",
    "sub_dict = {}\n",
    "d = {}\n",
    "eq_set = []\n",
    "var_set = []\n",
    "# utility functions\n",
    "def add_equation(equation, solve_for):\n",
    "    dict_entry = {}\n",
    "    dict_entry['eq']=equation\n",
    "    dict_entry['var']=solve_for\n",
    "    dict_entry['result'] = None\n",
    "    d[dict_entry['var']]=dict_entry\n",
    "    \n",
    "def save_results(results_list):\n",
    "    i=0\n",
    "    for entry in d.values():\n",
    "        entry['result'] = results_list[i]\n",
    "        i+=1"
   ]
  },
  {
   "cell_type": "markdown",
   "metadata": {},
   "source": [
    "## Parameters"
   ]
  },
  {
   "cell_type": "markdown",
   "metadata": {},
   "source": [
    "Payload mass"
   ]
  },
  {
   "cell_type": "code",
   "execution_count": 4,
   "metadata": {
    "scrolled": true
   },
   "outputs": [
    {
     "data": {
      "text/latex": [
       "$\\displaystyle M_{payload} = 18 \\text{kg}$"
      ],
      "text/plain": [
       "M_{payload} = 18⋅kilogram"
      ]
     },
     "execution_count": 4,
     "metadata": {},
     "output_type": "execute_result"
    }
   ],
   "source": [
    "m_payload = symbols('M_{payload}')\n",
    "m_payload_eq = Eq(m_payload,18*unit.kg)\n",
    "add_equation(m_payload_eq,m_payload)\n",
    "# sub_dict[m_payload]=solve(m_payload_calc)[0]\n",
    "m_payload_eq"
   ]
  },
  {
   "cell_type": "markdown",
   "metadata": {},
   "source": [
    "Fly time"
   ]
  },
  {
   "cell_type": "code",
   "execution_count": 5,
   "metadata": {},
   "outputs": [
    {
     "data": {
      "text/latex": [
       "$\\displaystyle T_{fly} = 2 \\text{hour}$"
      ],
      "text/plain": [
       "T_{fly} = 2⋅hour"
      ]
     },
     "execution_count": 5,
     "metadata": {},
     "output_type": "execute_result"
    }
   ],
   "source": [
    "fly_time = symbols('T_{fly}')\n",
    "fly_time_var = 2\n",
    "fly_time_eq = Eq(fly_time,fly_time_var*unit.hour)\n",
    "add_equation(fly_time_eq,fly_time)\n",
    "# sub_dict[m_payload]=solve(m_payload_calc)[0]\n",
    "fly_time_eq"
   ]
  },
  {
   "cell_type": "markdown",
   "metadata": {},
   "source": [
    "Number of arms"
   ]
  },
  {
   "cell_type": "code",
   "execution_count": 6,
   "metadata": {},
   "outputs": [
    {
     "data": {
      "text/latex": [
       "$\\displaystyle n_{arms} = 6$"
      ],
      "text/plain": [
       "n_{arms} = 6"
      ]
     },
     "execution_count": 6,
     "metadata": {},
     "output_type": "execute_result"
    }
   ],
   "source": [
    "n_arms = symbols('n_{arms}')\n",
    "n_arms_eq = Eq(n_arms,6)\n",
    "n_arms_eq"
   ]
  },
  {
   "cell_type": "markdown",
   "metadata": {},
   "source": [
    "Diameter of the drone"
   ]
  },
  {
   "cell_type": "code",
   "execution_count": 7,
   "metadata": {
    "scrolled": true
   },
   "outputs": [
    {
     "data": {
      "text/latex": [
       "$\\displaystyle D_{drone} = 1800 \\text{mm}$"
      ],
      "text/plain": [
       "D_{drone} = 1800⋅millimeter"
      ]
     },
     "execution_count": 7,
     "metadata": {},
     "output_type": "execute_result"
    }
   ],
   "source": [
    "leng = symbols('D_{drone}')\n",
    "leng_eq = Eq(leng,1800*unit.mm)\n",
    "add_equation(leng_eq,leng)\n",
    "leng_eq"
   ]
  },
  {
   "cell_type": "markdown",
   "metadata": {},
   "source": [
    "-------------------------------------------------------------"
   ]
  },
  {
   "cell_type": "markdown",
   "metadata": {},
   "source": [
    "## Main equations"
   ]
  },
  {
   "cell_type": "markdown",
   "metadata": {},
   "source": [
    "### Total mass"
   ]
  },
  {
   "cell_type": "code",
   "execution_count": 8,
   "metadata": {
    "scrolled": true
   },
   "outputs": [
    {
     "data": {
      "text/latex": [
       "$\\displaystyle M_{total} = M_{energy} + M_{payload} + M_{propulsion} + M_{structure}$"
      ],
      "text/plain": [
       "M_{total} = M_{energy} + M_{payload} + M_{propulsion} + M_{structure}"
      ]
     },
     "execution_count": 8,
     "metadata": {},
     "output_type": "execute_result"
    }
   ],
   "source": [
    "m_propulsion = symbols('M_{propulsion}')\n",
    "m_energy = symbols('M_{energy}')\n",
    "m_structure = symbols('M_{structure}')\n",
    "m_total = symbols('M_{total}')\n",
    "m_total_eq = Eq(m_total,m_propulsion+m_energy+m_structure+m_payload)\n",
    "add_equation(m_total_eq,m_total)\n",
    "m_total_eq"
   ]
  },
  {
   "cell_type": "markdown",
   "metadata": {},
   "source": [
    "### Total power consumption"
   ]
  },
  {
   "cell_type": "code",
   "execution_count": 9,
   "metadata": {},
   "outputs": [
    {
     "data": {
      "text/latex": [
       "$\\displaystyle P_{total} = P_{propulsion}$"
      ],
      "text/plain": [
       "P_{total} = P_{propulsion}"
      ]
     },
     "execution_count": 9,
     "metadata": {},
     "output_type": "execute_result"
    }
   ],
   "source": [
    "p_propulsion = symbols('P_{propulsion}')\n",
    "p_total = symbols('P_{total}')\n",
    "p_total_eq = Eq(p_total,p_propulsion)\n",
    "add_equation(p_total_eq,p_total)\n",
    "p_total_eq"
   ]
  },
  {
   "cell_type": "markdown",
   "metadata": {},
   "source": [
    "-----------------------------------"
   ]
  },
  {
   "cell_type": "markdown",
   "metadata": {},
   "source": [
    "### Thrust force"
   ]
  },
  {
   "cell_type": "code",
   "execution_count": 10,
   "metadata": {
    "scrolled": false
   },
   "outputs": [
    {
     "data": {
      "text/latex": [
       "$\\displaystyle F_{thrust}^{full} = \\frac{19.62 M_{total} \\text{N}}{\\text{kg}}$"
      ],
      "text/plain": [
       "                     19.62⋅M_{total}⋅newton\n",
       "F_{thrust}__{full} = ──────────────────────\n",
       "                            kilogram       "
      ]
     },
     "execution_count": 10,
     "metadata": {},
     "output_type": "execute_result"
    }
   ],
   "source": [
    "f_thrust_full = symbols('F_{thrust}^{full}')\n",
    "f_thrust_full_eq_gee = Eq(f_thrust_full,2*m_total/unit.kg*9.81*unit.N)\n",
    "f_thrust_full_eq_simple = convert_to(f_thrust_full_eq_gee,[unit.m,unit.s])\n",
    "add_equation(f_thrust_full_eq_gee,f_thrust_full)\n",
    "# sub_dict[f_thrust_full]=solve(f_thrust_full_calc)[0]\n",
    "f_thrust_full_eq_gee"
   ]
  },
  {
   "cell_type": "markdown",
   "metadata": {},
   "source": [
    "-----------------------------------------"
   ]
  },
  {
   "cell_type": "markdown",
   "metadata": {},
   "source": [
    "### Propulsion system"
   ]
  },
  {
   "cell_type": "markdown",
   "metadata": {},
   "source": [
    "Mass of the system"
   ]
  },
  {
   "cell_type": "code",
   "execution_count": 11,
   "metadata": {
    "scrolled": true
   },
   "outputs": [
    {
     "data": {
      "text/latex": [
       "$\\displaystyle M_{propulsion} = \\frac{P_{propulsion} \\text{kg}}{6000 \\text{W}}$"
      ],
      "text/plain": [
       "                 P_{propulsion}⋅kilogram\n",
       "M_{propulsion} = ───────────────────────\n",
       "                        6000⋅watt       "
      ]
     },
     "execution_count": 11,
     "metadata": {},
     "output_type": "execute_result"
    }
   ],
   "source": [
    "m_propulsion_eq = Eq(m_propulsion,p_propulsion/(6000*unit.W/unit.kg))\n",
    "add_equation(m_propulsion_eq,m_propulsion)\n",
    "# sub_dict[m_propulsion]=solve(m_propulsion_calc)[0]\n",
    "m_propulsion_eq"
   ]
  },
  {
   "cell_type": "markdown",
   "metadata": {},
   "source": [
    "Power consumption"
   ]
  },
  {
   "cell_type": "code",
   "execution_count": 12,
   "metadata": {},
   "outputs": [
    {
     "data": {
      "text/latex": [
       "$\\displaystyle P_{propulsion} = \\frac{11.7647058823529 F_{thrust}^{full} \\text{W}}{\\text{N}}$"
      ],
      "text/plain": [
       "                 11.7647058823529⋅F_{thrust}__{full}⋅watt\n",
       "P_{propulsion} = ────────────────────────────────────────\n",
       "                                  newton                 "
      ]
     },
     "execution_count": 12,
     "metadata": {},
     "output_type": "execute_result"
    }
   ],
   "source": [
    "p_propulsion_eq = Eq(p_propulsion,f_thrust_full/(0.085*unit.N/unit.W))\n",
    "# sub_dict[p_propulsion]=solve(p_propulsion_calc)[0]\n",
    "add_equation(p_propulsion_eq,p_propulsion)\n",
    "p_propulsion_eq"
   ]
  },
  {
   "cell_type": "markdown",
   "metadata": {},
   "source": [
    "--------------------------------"
   ]
  },
  {
   "cell_type": "markdown",
   "metadata": {},
   "source": [
    "### Energy system"
   ]
  },
  {
   "cell_type": "code",
   "execution_count": 32,
   "metadata": {},
   "outputs": [
    {
     "data": {
      "text/latex": [
       "$\\displaystyle k_{stack} = \\frac{800 \\text{W}}{\\text{kg}}$"
      ],
      "text/plain": [
       "            800⋅watt\n",
       "k_{stack} = ────────\n",
       "            kilogram"
      ]
     },
     "execution_count": 32,
     "metadata": {},
     "output_type": "execute_result"
    }
   ],
   "source": [
    "k_stack_mass = symbols('k_{stack}')\n",
    "k_stack_mass_eq = Eq(k_stack_mass,800*unit.W/unit.kg)\n",
    "add_equation(k_stack_mass_eq,k_stack_mass)\n",
    "k_stack_mass_eq"
   ]
  },
  {
   "cell_type": "code",
   "execution_count": 33,
   "metadata": {
    "scrolled": true
   },
   "outputs": [
    {
     "data": {
      "text/latex": [
       "$\\displaystyle M_{stack} = \\frac{P_{total}}{k_{stack}}$"
      ],
      "text/plain": [
       "            P_{total}\n",
       "M_{stack} = ─────────\n",
       "            k_{stack}"
      ]
     },
     "execution_count": 33,
     "metadata": {},
     "output_type": "execute_result"
    }
   ],
   "source": [
    "m_stack = symbols('M_{stack}')\n",
    "m_stack_eq = Eq(m_stack,p_total/k_stack_mass)\n",
    "add_equation(m_stack_eq,m_stack)\n",
    "m_stack_eq"
   ]
  },
  {
   "cell_type": "code",
   "execution_count": 24,
   "metadata": {},
   "outputs": [
    {
     "data": {
      "text/latex": [
       "$\\displaystyle M_{fuel}$"
      ],
      "text/plain": [
       "M_{fuel}"
      ]
     },
     "execution_count": 24,
     "metadata": {},
     "output_type": "execute_result"
    }
   ],
   "source": [
    "m_fuel = symbols('M_{fuel}')\n",
    "m_fuel_eq = Eq(m_fuel,p_total)\n",
    "m_fuel"
   ]
  },
  {
   "cell_type": "code",
   "execution_count": 31,
   "metadata": {},
   "outputs": [
    {
     "data": {
      "text/latex": [
       "$\\displaystyle M_{energy} = 1.2 M_{fuel} + 1.2 M_{stack}$"
      ],
      "text/plain": [
       "M_{energy} = 1.2⋅M_{fuel} + 1.2⋅M_{stack}"
      ]
     },
     "execution_count": 31,
     "metadata": {},
     "output_type": "execute_result"
    }
   ],
   "source": [
    "m_energy_eq = Eq(m_energy,1.2*(m_stack+m_fuel))\n",
    "m_energy_eq"
   ]
  },
  {
   "cell_type": "code",
   "execution_count": 13,
   "metadata": {
    "scrolled": true
   },
   "outputs": [
    {
     "data": {
      "text/latex": [
       "$\\displaystyle M_{energy} = \\frac{0.00125507399577167 P_{total} \\text{kg}}{\\text{W}}$"
      ],
      "text/plain": [
       "             0.00125507399577167⋅P_{total}⋅kilogram\n",
       "M_{energy} = ──────────────────────────────────────\n",
       "                              watt                 "
      ]
     },
     "execution_count": 13,
     "metadata": {},
     "output_type": "execute_result"
    }
   ],
   "source": [
    "m_energy_eq = Eq(m_energy,(p_total/unit.W/800+p_total*3600*fly_time_var/unit.W/141.9/10e6)*unit.kg)\n",
    "add_equation(m_energy_eq,m_energy)\n",
    "# sub_dict[m_energy]=solve(m_energy_calc)[0]\n",
    "m_energy_eq"
   ]
  },
  {
   "cell_type": "markdown",
   "metadata": {},
   "source": [
    "--------------------------------------------"
   ]
  },
  {
   "cell_type": "markdown",
   "metadata": {},
   "source": [
    "### Structure"
   ]
  },
  {
   "cell_type": "markdown",
   "metadata": {},
   "source": [
    "#### Frame mass dependency"
   ]
  },
  {
   "cell_type": "code",
   "execution_count": 14,
   "metadata": {
    "scrolled": false
   },
   "outputs": [
    {
     "data": {
      "text/latex": [
       "$\\displaystyle M_{structure} = \\left(0.358716261164815 - \\frac{0.000248391401913562 D_{drone}}{\\text{mm}} + \\frac{0.0670140840984393 M_{total}}{\\text{kg}}\\right) \\text{kg}$"
      ],
      "text/plain": [
       "                ⎛                    0.000248391401913562⋅D_{drone}   0.067014\n",
       "M_{structure} = ⎜0.358716261164815 - ────────────────────────────── + ────────\n",
       "                ⎝                              millimeter                     \n",
       "\n",
       "0840984393⋅M_{total}⎞         \n",
       "────────────────────⎟⋅kilogram\n",
       "  kilogram          ⎠         "
      ]
     },
     "execution_count": 14,
     "metadata": {},
     "output_type": "execute_result"
    }
   ],
   "source": [
    "#1 ---- We can estimate mass of structure by experimental data\n",
    "#Diameter \n",
    "x = np.array([1550, 1060, 605, 1840])\n",
    "#Take-off weight\n",
    "y = np.array([19, 8.25, 4, 40])\n",
    "#Frame mass calculated by propulsion team 6*arm_weight+0.4kg for the middle part\n",
    "z = np.array([1.24, 0.658, 0.472, 2.584])\n",
    "A = np.vstack([x, y, np.ones_like(x)]).T\n",
    "Q, R = np.linalg.qr(A)\n",
    "a, b, c = np.linalg.inv(R)@Q.T@z\n",
    "m_structure_eq = Eq(m_structure,(a*leng/unit.mm+b*m_total/unit.kg+c)*unit.kg)\n",
    "add_equation(m_structure_eq,m_structure)\n",
    "#sub_dict[m_structure]=solve(m_structure_calc)[0]\n",
    "m_structure_eq\n",
    "#2 ---- Or by a formula\n",
    "#ro = 1600\n",
    "#sigma_max = 300e6\n",
    "#D_relative = 0.0018\n",
    "#m_structure_eq = Eq(m_structure,(a*leng/unit.mm+b*m_total/unit.kg+c)*unit.kg)\n",
    "#add_equation(m_structure_eq,m_structure)\n",
    "#m_structure_eq"
   ]
  },
  {
   "cell_type": "markdown",
   "metadata": {},
   "source": [
    "----------------------------------"
   ]
  },
  {
   "cell_type": "markdown",
   "metadata": {},
   "source": [
    "## Calculation results"
   ]
  },
  {
   "cell_type": "code",
   "execution_count": 15,
   "metadata": {},
   "outputs": [],
   "source": [
    "eq_list = list(map(lambda c:c['eq'],d.values()))\n",
    "var_list = list(map(lambda c:c['var'],d.values()))\n",
    "temp_results = linsolve(eq_list,var_list)\n",
    "results_list = []\n",
    "for a in temp_results:\n",
    "    for b in a:\n",
    "        results_list.append(b)\n",
    "    break\n",
    "# results_list"
   ]
  },
  {
   "cell_type": "code",
   "execution_count": 16,
   "metadata": {},
   "outputs": [],
   "source": [
    "save_results(results_list)"
   ]
  },
  {
   "cell_type": "code",
   "execution_count": 17,
   "metadata": {},
   "outputs": [
    {
     "data": {
      "text/latex": [
       "$\\displaystyle \\left[ M_{total}, \\  29.6150394427936 \\text{kg}\\right]$"
      ],
      "text/plain": [
       "[M_{total}, 29.6150394427936⋅kilogram]"
      ]
     },
     "execution_count": 17,
     "metadata": {},
     "output_type": "execute_result"
    }
   ],
   "source": [
    "[m_total,d[m_total]['result']]"
   ]
  },
  {
   "cell_type": "code",
   "execution_count": 18,
   "metadata": {},
   "outputs": [
    {
     "data": {
      "text/latex": [
       "$\\displaystyle \\left[ M_{propulsion}, \\  1.13930798797571 \\text{kg}\\right]$"
      ],
      "text/plain": [
       "[M_{propulsion}, 1.13930798797571⋅kilogram]"
      ]
     },
     "execution_count": 18,
     "metadata": {},
     "output_type": "execute_result"
    }
   ],
   "source": [
    "[m_propulsion,d[m_propulsion]['result']]"
   ]
  },
  {
   "cell_type": "code",
   "execution_count": 19,
   "metadata": {},
   "outputs": [
    {
     "data": {
      "text/latex": [
       "$\\displaystyle \\left[ M_{structure}, \\  1.89623648151837 \\text{kg}\\right]$"
      ],
      "text/plain": [
       "[M_{structure}, 1.89623648151837⋅kilogram]"
      ]
     },
     "execution_count": 19,
     "metadata": {},
     "output_type": "execute_result"
    }
   ],
   "source": [
    "[m_structure,d[m_structure]['result']]"
   ]
  },
  {
   "cell_type": "code",
   "execution_count": 20,
   "metadata": {},
   "outputs": [
    {
     "data": {
      "text/latex": [
       "$\\displaystyle \\left[ M_{energy}, \\  8.57949497329951 \\text{kg}\\right]$"
      ],
      "text/plain": [
       "[M_{energy}, 8.57949497329951⋅kilogram]"
      ]
     },
     "execution_count": 20,
     "metadata": {},
     "output_type": "execute_result"
    }
   ],
   "source": [
    "[m_energy,d[m_energy]['result']]"
   ]
  },
  {
   "cell_type": "code",
   "execution_count": 21,
   "metadata": {},
   "outputs": [
    {
     "data": {
      "text/plain": [
       "{M_{payload}: {'eq': Eq(M_{payload}, 18*kilogram),\n",
       "  'var': M_{payload},\n",
       "  'result': 18*kilogram},\n",
       " T_{fly}: {'eq': Eq(T_{fly}, 2*hour), 'var': T_{fly}, 'result': 2*hour},\n",
       " D_{drone}: {'eq': Eq(D_{drone}, 1800*millimeter),\n",
       "  'var': D_{drone},\n",
       "  'result': 1800*millimeter},\n",
       " M_{total}: {'eq': Eq(M_{total}, M_{energy} + M_{payload} + M_{propulsion} + M_{structure}),\n",
       "  'var': M_{total},\n",
       "  'result': 29.6150394427936*kilogram},\n",
       " P_{total}: {'eq': Eq(P_{total}, P_{propulsion}),\n",
       "  'var': P_{total},\n",
       "  'result': 6835.84792785424*watt},\n",
       " F_{thrust}^{full}: {'eq': Eq(F_{thrust}^{full}, 19.62*newton*M_{total}/kilogram),\n",
       "  'var': F_{thrust}^{full},\n",
       "  'result': 581.04707386761*newton},\n",
       " M_{propulsion}: {'eq': Eq(M_{propulsion}, kilogram*P_{propulsion}/(6000*watt)),\n",
       "  'var': M_{propulsion},\n",
       "  'result': 1.13930798797571*kilogram},\n",
       " P_{propulsion}: {'eq': Eq(P_{propulsion}, 11.7647058823529*watt*F_{thrust}^{full}/newton),\n",
       "  'var': P_{propulsion},\n",
       "  'result': 6835.84792785424*watt},\n",
       " M_{energy}: {'eq': Eq(M_{energy}, 0.00125507399577167*kilogram*P_{total}/watt),\n",
       "  'var': M_{energy},\n",
       "  'result': 8.57949497329951*kilogram},\n",
       " M_{structure}: {'eq': Eq(M_{structure}, kilogram*(0.358716261164815 - 0.000248391401913562*D_{drone}/millimeter + 0.0670140840984393*M_{total}/kilogram)),\n",
       "  'var': M_{structure},\n",
       "  'result': 1.89623648151837*kilogram}}"
      ]
     },
     "execution_count": 21,
     "metadata": {},
     "output_type": "execute_result"
    }
   ],
   "source": [
    "d"
   ]
  },
  {
   "cell_type": "code",
   "execution_count": null,
   "metadata": {},
   "outputs": [],
   "source": []
  }
 ],
 "metadata": {
  "kernelspec": {
   "display_name": "Python 3",
   "language": "python",
   "name": "python3"
  },
  "language_info": {
   "codemirror_mode": {
    "name": "ipython",
    "version": 3
   },
   "file_extension": ".py",
   "mimetype": "text/x-python",
   "name": "python",
   "nbconvert_exporter": "python",
   "pygments_lexer": "ipython3",
   "version": "3.8.1"
  }
 },
 "nbformat": 4,
 "nbformat_minor": 4
}
